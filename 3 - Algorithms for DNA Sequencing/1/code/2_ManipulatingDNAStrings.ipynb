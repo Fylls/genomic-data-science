{
 "cells": [
  {
   "cell_type": "code",
   "execution_count": 1,
   "source": [
    "def longestCommonPrefix(s1, s2):\r\n",
    "    i = 0 \r\n",
    "    while i < len(s1) and i < len(s2) and s1[i] == s2[i]:\r\n",
    "        i += 1\r\n",
    "    return s1[:i]\r\n",
    "longestCommonPrefix('ACCATTG', 'ACCAAGTC')"
   ],
   "outputs": [
    {
     "output_type": "execute_result",
     "data": {
      "text/plain": [
       "'ACCA'"
      ]
     },
     "metadata": {},
     "execution_count": 1
    }
   ],
   "metadata": {
    "collapsed": false
   }
  },
  {
   "cell_type": "code",
   "execution_count": 2,
   "source": [
    "def match(s1, s2):\r\n",
    "    if not len(s1) == len(s2):\r\n",
    "        return False\r\n",
    "    for i in range(0, len(s1)):\r\n",
    "        if not s1[i] == s2[i]:\r\n",
    "            return False\r\n",
    "    return True\r\n",
    "match('ACCATTG', 'ACCATTG')"
   ],
   "outputs": [
    {
     "output_type": "execute_result",
     "data": {
      "text/plain": [
       "True"
      ]
     },
     "metadata": {},
     "execution_count": 2
    }
   ],
   "metadata": {
    "collapsed": false
   }
  },
  {
   "cell_type": "code",
   "execution_count": 3,
   "source": [
    "'ACCATTG' == 'ACCATTG'"
   ],
   "outputs": [
    {
     "output_type": "execute_result",
     "data": {
      "text/plain": [
       "True"
      ]
     },
     "metadata": {},
     "execution_count": 3
    }
   ],
   "metadata": {
    "collapsed": false
   }
  },
  {
   "cell_type": "code",
   "execution_count": 4,
   "source": [
    "complement = {'A': 'T', 'C': 'G', 'G': 'C', 'T': 'A'}"
   ],
   "outputs": [],
   "metadata": {
    "collapsed": false
   }
  },
  {
   "cell_type": "code",
   "execution_count": 5,
   "source": [
    "complement['A']"
   ],
   "outputs": [
    {
     "output_type": "execute_result",
     "data": {
      "text/plain": [
       "'T'"
      ]
     },
     "metadata": {},
     "execution_count": 5
    }
   ],
   "metadata": {
    "collapsed": false
   }
  },
  {
   "cell_type": "markdown",
   "source": [],
   "metadata": {}
  },
  {
   "cell_type": "code",
   "execution_count": 6,
   "source": [
    "complement['C']"
   ],
   "outputs": [
    {
     "output_type": "execute_result",
     "data": {
      "text/plain": [
       "'G'"
      ]
     },
     "metadata": {},
     "execution_count": 6
    }
   ],
   "metadata": {
    "collapsed": false
   }
  },
  {
   "cell_type": "code",
   "execution_count": 7,
   "source": [
    "def reverseComplement(s):\r\n",
    "    complement = {'A': 'T', 'C': 'G', 'G': 'C', 'T': 'A'}\r\n",
    "    t = ''\r\n",
    "    for base in s:\r\n",
    "        t = complement[base] + t\r\n",
    "    return t\r\n",
    "reverseComplement('ACCATTG')\r\n",
    "\r\n",
    "# if we had double stranded DNA, and we knew the sequence along one of those strands from top to bottom,\r\n",
    "# this would give us the sequence of the other strand from bottom to top"
   ],
   "outputs": [
    {
     "output_type": "execute_result",
     "data": {
      "text/plain": [
       "'CAATGGT'"
      ]
     },
     "metadata": {},
     "execution_count": 7
    }
   ],
   "metadata": {
    "collapsed": false
   }
  }
 ],
 "metadata": {
  "kernelspec": {
   "display_name": "Python 2",
   "language": "python",
   "name": "python2"
  },
  "language_info": {
   "codemirror_mode": {
    "name": "ipython",
    "version": 2
   },
   "file_extension": ".py",
   "mimetype": "text/x-python",
   "name": "python",
   "nbconvert_exporter": "python",
   "pygments_lexer": "ipython2",
   "version": "2.7.10"
  }
 },
 "nbformat": 4,
 "nbformat_minor": 2
}