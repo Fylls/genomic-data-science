{
 "cells": [
  {
   "cell_type": "code",
   "execution_count": 1,
   "source": [
    "!wget http://d28rh4a8wq0iu5.cloudfront.net/ads1/data/phix.fa"
   ],
   "outputs": [
    {
     "output_type": "stream",
     "name": "stdout",
     "text": [
      "--2015-07-14 11:55:06--  http://d28rh4a8wq0iu5.cloudfront.net/ads1/data/phix.fa\n",
      "Resolving d28rh4a8wq0iu5.cloudfront.net... 54.230.53.87, 54.192.54.164, 54.192.54.222, ...\n",
      "Connecting to d28rh4a8wq0iu5.cloudfront.net|54.230.53.87|:80... connected.\n",
      "HTTP request sent, awaiting response... 200 OK\n",
      "Length: 5528 (5.4K) [application/octet-stream]\n",
      "Saving to: 'phix.fa'\n",
      "\n",
      "phix.fa             100%[=====================>]   5.40K  --.-KB/s   in 0.003s \n",
      "\n",
      "2015-07-14 11:55:07 (1.60 MB/s) - 'phix.fa' saved [5528/5528]\n",
      "\n"
     ]
    }
   ],
   "metadata": {
    "collapsed": false
   }
  },
  {
   "cell_type": "code",
   "execution_count": 2,
   "source": [
    "def readGenome(filename):\r\n",
    "    genome = ''\r\n",
    "    with open(filename, 'r') as f:\r\n",
    "        for line in f:\r\n",
    "            # ignore header line with genome information\r\n",
    "            if not line[0] == '>':\r\n",
    "                genome += line.rstrip()\r\n",
    "    return genome"
   ],
   "outputs": [],
   "metadata": {
    "collapsed": false
   }
  },
  {
   "cell_type": "code",
   "execution_count": 3,
   "source": [
    "genome = readGenome('phix.fa')"
   ],
   "outputs": [],
   "metadata": {
    "collapsed": false
   }
  },
  {
   "cell_type": "code",
   "execution_count": 4,
   "source": [
    "def naive(p, t):\r\n",
    "    occurrences = []\r\n",
    "    for i in range(len(t) - len(p) + 1):\r\n",
    "        match = True\r\n",
    "        for j in range(len(p)):\r\n",
    "            if t[i+j] != p[j]:\r\n",
    "                match = False\r\n",
    "                break\r\n",
    "        if match:\r\n",
    "            occurrences.append(i)\r\n",
    "    return occurrences"
   ],
   "outputs": [],
   "metadata": {
    "collapsed": false
   }
  },
  {
   "cell_type": "code",
   "execution_count": 5,
   "source": [
    "t = 'AGCTTAGATAGC'\r\n",
    "p = 'AG'\r\n",
    "naive(p, t)"
   ],
   "outputs": [
    {
     "output_type": "execute_result",
     "data": {
      "text/plain": [
       "[0, 5, 9]"
      ]
     },
     "metadata": {},
     "execution_count": 5
    }
   ],
   "metadata": {
    "collapsed": false
   }
  },
  {
   "cell_type": "code",
   "execution_count": 6,
   "source": [
    "import random\r\n",
    "def generateReads(genome, numReads, readLen):\r\n",
    "    ''' Generate reads from random positions in the given genome. '''\r\n",
    "    reads = []\r\n",
    "    for _ in range(numReads):\r\n",
    "        start = random.randint(0, len(genome)-readLen) - 1\r\n",
    "        reads.append(genome[start : start+readLen])\r\n",
    "    return reads"
   ],
   "outputs": [],
   "metadata": {
    "collapsed": false
   }
  },
  {
   "cell_type": "code",
   "execution_count": 7,
   "source": [
    "# Generate 100 reads of length 100\r\n",
    "reads = generateReads(genome, 100, 100)\r\n",
    "\r\n",
    "# Count how many reads match the genome exactly\r\n",
    "numMatched = 0\r\n",
    "for r in reads:\r\n",
    "    matches = naive(r, genome)\r\n",
    "    if len(matches) > 0:\r\n",
    "        numMatched += 1\r\n",
    "print('%d / %d reads matched the genome exactly!' % (numMatched, len(reads)))"
   ],
   "outputs": [
    {
     "output_type": "stream",
     "name": "stdout",
     "text": [
      "100 / 100 reads matched the genome exactly!\n"
     ]
    }
   ],
   "metadata": {
    "collapsed": false
   }
  },
  {
   "cell_type": "code",
   "execution_count": 8,
   "source": [
    "!wget http://d28rh4a8wq0iu5.cloudfront.net/ads1/data/ERR266411_1.first1000.fastq"
   ],
   "outputs": [
    {
     "output_type": "stream",
     "name": "stdout",
     "text": [
      "--2015-07-14 11:55:07--  http://d28rh4a8wq0iu5.cloudfront.net/ads1/data/ERR266411_1.first1000.fastq\n",
      "Resolving d28rh4a8wq0iu5.cloudfront.net... 54.192.54.195, 54.192.54.164, 54.192.54.222, ...\n",
      "Connecting to d28rh4a8wq0iu5.cloudfront.net|54.192.54.195|:80... connected.\n",
      "HTTP request sent, awaiting response... 200 OK\n",
      "Length: 254384 (248K) [audio/mpeg]\n",
      "Saving to: 'ERR266411_1.first1000.fastq'\n",
      "\n",
      "ERR266411_1.first10 100%[=====================>] 248.42K   958KB/s   in 0.3s   \n",
      "\n",
      "2015-07-14 11:55:08 (958 KB/s) - 'ERR266411_1.first1000.fastq' saved [254384/254384]\n",
      "\n"
     ]
    }
   ],
   "metadata": {
    "collapsed": false
   }
  },
  {
   "cell_type": "code",
   "execution_count": 9,
   "source": [
    "def readFastq(filename):\r\n",
    "    sequences = []\r\n",
    "    with open(filename) as fh:\r\n",
    "        while True:\r\n",
    "            fh.readline() # skip name line\r\n",
    "            seq = fh.readline().rstrip() # read base sequence\r\n",
    "            fh.readline() # skip placeholder line\r\n",
    "            fh.readline() # skip base quality line\r\n",
    "            if len(seq) == 0:\r\n",
    "                break\r\n",
    "            sequences.append(seq)\r\n",
    "    return sequences"
   ],
   "outputs": [],
   "metadata": {
    "collapsed": true
   }
  },
  {
   "cell_type": "code",
   "execution_count": 10,
   "source": [
    "import collections\r\n",
    "phix_reads = readFastq('ERR266411_1.first1000.fastq')\r\n",
    "count = collections.Counter()\r\n",
    "for read in phix_reads:\r\n",
    "    count.update(read)\r\n",
    "count"
   ],
   "outputs": [
    {
     "output_type": "execute_result",
     "data": {
      "text/plain": [
       "Counter({'T': 30531, 'A': 28426, 'C': 21890, 'G': 19147, 'N': 6})"
      ]
     },
     "metadata": {},
     "execution_count": 10
    }
   ],
   "metadata": {
    "collapsed": false
   }
  },
  {
   "cell_type": "code",
   "execution_count": 11,
   "source": [
    "numMatched = 0\r\n",
    "n = 0\r\n",
    "for r in phix_reads:\r\n",
    "    matches = naive(r, genome)\r\n",
    "    n += 1\r\n",
    "    if len(matches) > 0:\r\n",
    "        numMatched += 1\r\n",
    "print('%d / %d reads matched the genome exactly!' % (numMatched, n))\r\n",
    "\r\n",
    "# That might be surprising. These are sequencing reads actually from this genome, and yet only 7 out of 1,000 of them actually match the genome.\r\n",
    "# So why would that be? Well, we actually learned a couple of reasons why a sequence obtained with a DNA sequencer might not match back to the genome exactly.\r\n",
    "# One reason is because of sequencing errors, so it could be that some of the bases were read incorrectly by the sequencer,\r\n",
    "# and then another reason is because there might be differences between the individual that was sequenced, in this case it's a virus, and the reference genome sequenced\r\n",
    "# In this case it's probably mostly the sequencing errors that are the reason why many of these reads are not aligning.\r\n",
    "# So one of the things that we're going to try next is to just take part of the read, right? It could be that the whole read, all 100 bases, don't necessarily match,\r\n",
    "# but if we just take a piece, like maybe the first 30 bases or so. That has a greater chance of matching exactly. All right, so we'll try that next."
   ],
   "outputs": [
    {
     "output_type": "stream",
     "name": "stdout",
     "text": [
      "7 / 1000 reads matched the genome exactly!\n"
     ]
    }
   ],
   "metadata": {
    "collapsed": false
   }
  },
  {
   "cell_type": "code",
   "execution_count": 12,
   "source": [
    "# Now let's try matching just the first 30 bases of each read\r\n",
    "numMatched = 0\r\n",
    "n = 0\r\n",
    "for r in phix_reads:\r\n",
    "    r = r[:30]  # just taking the first 30 bases\r\n",
    "    matches = naive(r, genome)\r\n",
    "    n += 1\r\n",
    "    if len(matches) > 0:\r\n",
    "        numMatched += 1\r\n",
    "print('%d / %d reads matched the genome exactly!' % (numMatched, n))\r\n",
    "\r\n",
    "# So this still isn't very close to a thousand. This is less than half of the reads aligning to our reference genome. So you might be able to think of another reason why maybe not so many of the reads are aligning.\r\n",
    "# In this case it's because the genome is double stranded and the reads can come from one strand or they can come from the other but the exact matching problem we've set up is only looking on one of those two strands.\r\n",
    "# It's not looking on both. So that could explain in large part why we're seeing less than half of the reads actually matching back to the genome.\r\n",
    "# The next thing to try would be not just to try to match the read to the genome, but also to try to match the reverse complement of the read to the genome.\r\n",
    "# That will cover the case where the read comes from the other strand of the genome."
   ],
   "outputs": [
    {
     "output_type": "stream",
     "name": "stdout",
     "text": [
      "459 / 1000 reads matched the genome exactly!\n"
     ]
    }
   ],
   "metadata": {
    "collapsed": false
   }
  },
  {
   "cell_type": "code",
   "execution_count": 13,
   "source": [
    "n and this will just match to an n. Since in both cases we don't know what it is. \r\n",
    "def reverseComplement(s):\r\n",
    "    complement = {'A': 'T', 'C': 'G', 'G': 'C', 'T': 'A', 'N': 'N'}\r\n",
    "    t = ''\r\n",
    "    for base in s:\r\n",
    "        t = complement[base] + t\r\n",
    "    return t"
   ],
   "outputs": [],
   "metadata": {
    "collapsed": false
   }
  },
  {
   "cell_type": "code",
   "execution_count": 14,
   "source": [
    "numMatched = 0\r\n",
    "n = 0\r\n",
    "for r in phix_reads:\r\n",
    "    r = r[:30]  # just taking the first 30 bases\r\n",
    "    matches = naive(r, genome)\r\n",
    "    matches.extend(naive(reverseComplement(r), genome)) # extend() takes one list and adds on to it the results of another list.\r\n",
    "    n += 1\r\n",
    "    if len(matches) > 0:\r\n",
    "        numMatched += 1\r\n",
    "print('%d / %d reads matched the genome exactly!' % (numMatched, n))\r\n",
    "\r\n",
    "# This is to be expected because of sequencing errors and things like that. But once we figured out that we had missed one whole strand of the genome,\r\n",
    "# and once we took a prefix of the read instead of the entire read, we were able to match nearly all the reads in our data set.\r\n",
    "# But the fact that we had to take the first 30 base pairs or so is a pretty good indication that exact matching is not necessarily going to be what we want to do, right?\r\n",
    "# We want to allow for sequencing errors, we want to allow for differences between individuals. So that's why later in the course we'll examine some approximate matching algorithms"
   ],
   "outputs": [
    {
     "output_type": "stream",
     "name": "stdout",
     "text": [
      "932 / 1000 reads matched the genome exactly!\n"
     ]
    }
   ],
   "metadata": {
    "collapsed": false
   }
  }
 ],
 "metadata": {
  "kernelspec": {
   "display_name": "Python 2",
   "language": "python",
   "name": "python2"
  },
  "language_info": {
   "codemirror_mode": {
    "name": "ipython",
    "version": 2
   },
   "file_extension": ".py",
   "mimetype": "text/x-python",
   "name": "python",
   "nbconvert_exporter": "python",
   "pygments_lexer": "ipython2",
   "version": "2.7.10"
  }
 },
 "nbformat": 4,
 "nbformat_minor": 2
}