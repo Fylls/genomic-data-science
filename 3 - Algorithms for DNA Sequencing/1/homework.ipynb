{
 "cells": [
  {
   "cell_type": "markdown",
   "source": [
    "Implement a version of the naive exact matching algorithm that is strand-aware.\r\n",
    "That is: instead of looking only for occurrences of P in T, additionally look for occurrences of thereverse complement of P in T.\r\n",
    "If P is ACT, your function should find occurrences of both ACTand its reverse complement AGT in T.\r\n",
    "If P and its reverse complement are identical (e.g. AACGTT), then a given match offset should be reported only once.\r\n",
    "\r\n",
    "Hint: See this notebook for a few examples you can use to test your naive_with_rc function.\r\n",
    "\r\n",
    "Next, download and parse the lambda virus genome, at: https://d28rh4a8wq0iu5.cloudfront.net/ads1/data/lambda_virus.fa"
   ],
   "metadata": {}
  },
  {
   "cell_type": "code",
   "execution_count": null,
   "source": [
    "# Here are all the functions we are going to\r\n",
    "\r\n",
    "def readGenome(filename):\r\n",
    "    genome = \"\"\r\n",
    "    with open(filename, \"r\") as f:\r\n",
    "        for line in f:\r\n",
    "            if not line[0] == \">\":\r\n",
    "                genome += line.rstrip()\r\n",
    "    return genome\r\n",
    "\r\n",
    "\r\n",
    "def readFastq(filename):\r\n",
    "    sequences = []\r\n",
    "    qualities = []\r\n",
    "    with open(filename) as fh:\r\n",
    "        while True:\r\n",
    "            fh.readline()\r\n",
    "            seq = fh.readline().rstrip()\r\n",
    "            fh.readline()\r\n",
    "            qual = fh.readline().rstrip()\r\n",
    "            if len(seq) == 0:\r\n",
    "                break\r\n",
    "            sequences.append(seq)\r\n",
    "            qualities.append(qual)\r\n",
    "    return sequences, qualities\r\n",
    "\r\n",
    "\r\n",
    "def reverseComplement(s):\r\n",
    "    \"\"\"given the strand 5-3 return the strand 3-5\"\"\"\r\n",
    "    complement = {\"A\": \"T\", \"C\": \"G\", \"G\": \"C\", \"T\": \"A\", \"N\": \"N\"}\r\n",
    "    t = \"\"\r\n",
    "    for base in s:\r\n",
    "        t = complement[base] + t\r\n",
    "    return t\r\n",
    "\r\n",
    "\r\n",
    "def leftmostOccurrence(pattern, genome):\r\n",
    "    firstForward = genome.find(pattern)\r\n",
    "    firstReverse = genome.find(reverseComplement(pattern))\r\n",
    "    print(min(firstForward, firstReverse))\r\n",
    "\r\n",
    "\r\n",
    "def naive(p, t):\r\n",
    "    occurrences = []\r\n",
    "    for i in range(len(t) - len(p) + 1):\r\n",
    "        match = True\r\n",
    "        for j in range(len(p)):\r\n",
    "            if t[i + j] != p[j]:\r\n",
    "                match = False\r\n",
    "                break\r\n",
    "        if match:\r\n",
    "            occurrences.append(i)\r\n",
    "    return occurrences\r\n",
    "\r\n",
    "\r\n",
    "def NaiveRC(pattern, genome):\r\n",
    "    matches = naive(pattern, genome)\r\n",
    "    if reverseComplement(pattern) != pattern:\r\n",
    "        matches.extend(naive(reverseComplement(pattern), genome))\r\n",
    "    return matches\r\n",
    "\r\n",
    "\r\n",
    "def kmerFinder(pattern, genome):\r\n",
    "    print(len(NaiveRC(pattern, genome)))\r\n",
    "\r\n",
    "# lazy implemetation\r\n",
    "\r\n",
    "# def completeNaiveRC(reads, genome):\r\n",
    "#     numMatched = 0\r\n",
    "#     alignments = 0\r\n",
    "#     for r in reads:\r\n",
    "#         r = r[:30]\r\n",
    "#         matches = naive(r, genome)\r\n",
    "#         if reverseComplement(r) != r:\r\n",
    "#             matches.extend(naive(reverseComplement(r), genome))\r\n",
    "#         alignments += 1\r\n",
    "#         if len(matches) > 0:\r\n",
    "#             numMatched += 1\r\n",
    "#     print(\"%d / %d reads matched the genome exactly!\" % (numMatched, alignments))\r\n",
    "\r\n",
    "# print(\"all functions are loaded correctly\")\r\n",
    "\r\n",
    "\r\n",
    "def completeNaiveRC(p, t):\r\n",
    "    p_rev = reverseComplement(p)\r\n",
    "    occurrences = []\r\n",
    "    for i in range(len(t) - len(p) + 1):\r\n",
    "        match = True\r\n",
    "        for j in range(len(p)): \r\n",
    "            if t[i+j] != p[j]: \r\n",
    "                match = False\r\n",
    "                break\r\n",
    "        if not match:\r\n",
    "            match = True\r\n",
    "            for j in range(len(p)):  \r\n",
    "                if t[i + j] != p_rev[j]: \r\n",
    "                    match = False\r\n",
    "                    break\r\n",
    "        if match:\r\n",
    "            occurrences.append(i)  \r\n",
    "    return occurrences\r\n",
    "\r\n",
    "def KmerFinderWithMismatches(p, t, m):\r\n",
    "    occurrences = []\r\n",
    "    for i in range(len(t) - len(p) + 1):  \r\n",
    "        count_mismatch = 0\r\n",
    "        for j in range(len(p)): \r\n",
    "            if t[i+j] != p[j]: \r\n",
    "                count_mismatch += 1\r\n",
    "        if count_mismatch <= m:\r\n",
    "            occurrences.append(i) \r\n",
    "    return occurrences"
   ],
   "outputs": [],
   "metadata": {}
  },
  {
   "cell_type": "code",
   "execution_count": null,
   "source": [
    "# load files\r\n",
    "lambda_virus = readGenome(\"lambda_virus.fa\")\r\n",
    "myReads, _ = readFastq(\"ERR266411_1.first1000.fastq\")"
   ],
   "outputs": [],
   "metadata": {}
  },
  {
   "cell_type": "markdown",
   "source": [
    "How many times does AGGT or its reverse complement (ACCT) occur in the lambda virus genome?\r\n",
    "E.G. if AGGT occurs 10 times and ACCT occurs 12 times, you should report 22.\r\n",
    "\r\n",
    "How many times does TTAA or its reverse complement occur in the lambda virus genome?\r\n",
    "note: TTAA and its reverse complement are equal, so remember not to double count."
   ],
   "metadata": {}
  },
  {
   "cell_type": "code",
   "execution_count": null,
   "source": [
    "kmerFinder(\"AGGT\", lambda_virus)\r\n",
    "kmerFinder(\"TTAA\", lambda_virus)"
   ],
   "outputs": [],
   "metadata": {}
  },
  {
   "cell_type": "markdown",
   "source": [
    "What is the offset of the leftmost occurrence of ACTAAGT or its reverse complement in the Lambda virus genome?\r\n",
    "E.G. if the leftmost occurrence of ACTAAGT is at offset 40 (0-based) and the leftmost occurrence of its revers complement ACTTAGT is at offset 29, then report 29.\r\n",
    "\r\n",
    "What is the offset of the leftmost occurrence of AGTCGA or its reverse complement in the Lambda virus genome?"
   ],
   "metadata": {}
  },
  {
   "cell_type": "code",
   "execution_count": null,
   "source": [
    "leftmostOccurrence(\"ACTAAGT\", lambda_virus) # min(NaiveRC(\"ACTAAGT\", lambda_virus)\r\n",
    "leftmostOccurrence(\"AGTCGA\", lambda_virus) # min(NaiveRC(\"AGTCGA\", lambda_virus))"
   ],
   "outputs": [],
   "metadata": {}
  },
  {
   "cell_type": "markdown",
   "source": [
    "As we will discuss, sometimes we would like to find approximate matches for P in T. That is, we want to find occurrences with one or more differences. \r\n",
    "For Questions 5 and 6, make a new version of the naive function called naive_2m that allows up to 2 mismatches per occurrence.\r\n",
    "Unlike for the previous questions, do not consider the reverse complement here. We're looking for approximate matches for P itself, not its reverse complement.\r\n",
    "\r\n",
    "For example, ACTTTA occurs twice in ACTTACTTGATAAAGT, once at offset 0 with 2 mismatches, and once at offset 4 with 1 mismatch. So naive_2mm('ACTTTA', 'ACTTACTTGATAAAGT') should return the list [0, 4].\r\n",
    "\r\n",
    "How many times does TTCAAGCC occur in the Lambda virus genome when allowing up to 2 mismatches? "
   ],
   "metadata": {}
  },
  {
   "cell_type": "code",
   "execution_count": null,
   "source": [
    "KmerFinderWithMismatches(\"TTCAAGCC\", lambda_virus, 2)"
   ],
   "outputs": [],
   "metadata": {}
  }
 ],
 "metadata": {
  "orig_nbformat": 4,
  "language_info": {
   "name": "python",
   "version": "3.9.6"
  },
  "kernelspec": {
   "name": "python3",
   "display_name": "Python 3.9.6 64-bit"
  },
  "interpreter": {
   "hash": "ca98eca091f665d4b073781a8092ef1e4b0b5ce5ebfcf0d3c7ac3a44a4e96cf6"
  }
 },
 "nbformat": 4,
 "nbformat_minor": 2
}