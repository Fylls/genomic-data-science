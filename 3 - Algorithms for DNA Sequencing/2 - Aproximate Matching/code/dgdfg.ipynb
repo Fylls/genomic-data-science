{
 "cells": [
  {
   "cell_type": "markdown",
   "source": [
    "The following gray box contains several functions that preprocess the pattern *P* and create the tables needed to apply the bad character and good suffix rules.  We won't discuss these, but if you are interested, see Chapter 2 of:\n",
    "\n",
    "Gusfield, Dan. Algorithms on strings, trees and sequences: computer science and computational biology. Cambridge university press, 1997."
   ],
   "metadata": {}
  },
  {
   "cell_type": "code",
   "execution_count": 1,
   "source": [
    "import string\r\n",
    "\r\n",
    "def z_array(s):\r\n",
    "    \"\"\" Use Z algorithm (Gusfield theorem 1.4.1) to preprocess s \"\"\"\r\n",
    "    assert len(s) > 1\r\n",
    "    z = [len(s)] + [0] * (len(s)-1)\r\n",
    "    # Initial comparison of s[1:] with prefix\r\n",
    "    for i in range(1, len(s)):\r\n",
    "        if s[i] == s[i-1]:\r\n",
    "            z[1] += 1\r\n",
    "        else:\r\n",
    "            break\r\n",
    "    r, l = 0, 0\r\n",
    "    if z[1] > 0:\r\n",
    "        r, l = z[1], 1\r\n",
    "    for k in range(2, len(s)):\r\n",
    "        assert z[k] == 0\r\n",
    "        if k > r:\r\n",
    "            # Case 1\r\n",
    "            for i in range(k, len(s)):\r\n",
    "                if s[i] == s[i-k]:\r\n",
    "                    z[k] += 1\r\n",
    "                else:\r\n",
    "                    break\r\n",
    "            r, l = k + z[k] - 1, k\r\n",
    "        else:\r\n",
    "            # Case 2\r\n",
    "            # Calculate length of beta\r\n",
    "            nbeta = r - k + 1\r\n",
    "            zkp = z[k - l]\r\n",
    "            if nbeta > zkp:\r\n",
    "                # Case 2a: Zkp wins\r\n",
    "                z[k] = zkp\r\n",
    "            else:\r\n",
    "                # Case 2b: Compare characters just past r\r\n",
    "                nmatch = 0\r\n",
    "                for i in range(r+1, len(s)):\r\n",
    "                    if s[i] == s[i - k]:\r\n",
    "                        nmatch += 1\r\n",
    "                    else:\r\n",
    "                        break\r\n",
    "                l, r = k, r + nmatch\r\n",
    "                z[k] = r - k + 1\r\n",
    "    return z\r\n",
    "\r\n",
    "\r\n",
    "def n_array(s):\r\n",
    "    \"\"\" Compile the N array (Gusfield theorem 2.2.2) from the Z array \"\"\"\r\n",
    "    return z_array(s[::-1])[::-1]\r\n",
    "\r\n",
    "\r\n",
    "def big_l_prime_array(p, n):\r\n",
    "    \"\"\" Compile L' array (Gusfield theorem 2.2.2) using p and N array.\r\n",
    "        L'[i] = largest index j less than n such that N[j] = |P[i:]| \"\"\"\r\n",
    "    lp = [0] * len(p)\r\n",
    "    for j in range(len(p)-1):\r\n",
    "        i = len(p) - n[j]\r\n",
    "        if i < len(p):\r\n",
    "            lp[i] = j + 1\r\n",
    "    return lp\r\n",
    "\r\n",
    "\r\n",
    "def big_l_array(p, lp):\r\n",
    "    \"\"\" Compile L array (Gusfield theorem 2.2.2) using p and L' array.\r\n",
    "        L[i] = largest index j less than n such that N[j] >= |P[i:]| \"\"\"\r\n",
    "    l = [0] * len(p)\r\n",
    "    l[1] = lp[1]\r\n",
    "    for i in range(2, len(p)):\r\n",
    "        l[i] = max(l[i-1], lp[i])\r\n",
    "    return l\r\n",
    "\r\n",
    "\r\n",
    "def small_l_prime_array(n):\r\n",
    "    \"\"\" Compile lp' array (Gusfield theorem 2.2.4) using N array. \"\"\"\r\n",
    "    small_lp = [0] * len(n)\r\n",
    "    for i in range(len(n)):\r\n",
    "        if n[i] == i+1:  # prefix matching a suffix\r\n",
    "            small_lp[len(n)-i-1] = i+1\r\n",
    "    for i in range(len(n)-2, -1, -1):  # \"smear\" them out to the left\r\n",
    "        if small_lp[i] == 0:\r\n",
    "            small_lp[i] = small_lp[i+1]\r\n",
    "    return small_lp\r\n",
    "\r\n",
    "\r\n",
    "def good_suffix_table(p):\r\n",
    "    \"\"\" Return tables needed to apply good suffix rule. \"\"\"\r\n",
    "    n = n_array(p)\r\n",
    "    lp = big_l_prime_array(p, n)\r\n",
    "    return lp, big_l_array(p, lp), small_l_prime_array(n)\r\n",
    "\r\n",
    "\r\n",
    "def good_suffix_mismatch(i, big_l_prime, small_l_prime):\r\n",
    "    \"\"\" Given a mismatch at offset i, and given L/L' and l' arrays,\r\n",
    "        return amount to shift as determined by good suffix rule. \"\"\"\r\n",
    "    length = len(big_l_prime)\r\n",
    "    assert i < length\r\n",
    "    if i == length - 1:\r\n",
    "        return 0\r\n",
    "    i += 1  # i points to leftmost matching position of P\r\n",
    "    if big_l_prime[i] > 0:\r\n",
    "        return length - big_l_prime[i]\r\n",
    "    return length - small_l_prime[i]\r\n",
    "\r\n",
    "\r\n",
    "def good_suffix_match(small_l_prime):\r\n",
    "    \"\"\" Given a full match of P to T, return amount to shift as\r\n",
    "        determined by good suffix rule. \"\"\"\r\n",
    "    return len(small_l_prime) - small_l_prime[1]\r\n",
    "\r\n",
    "\r\n",
    "def dense_bad_char_tab(p, amap):\r\n",
    "    \"\"\" Given pattern string and list with ordered alphabet characters, create\r\n",
    "        and return a dense bad character table.  Table is indexed by offset\r\n",
    "        then by character. \"\"\"\r\n",
    "    tab = []\r\n",
    "    nxt = [0] * len(amap)\r\n",
    "    for i in range(0, len(p)):\r\n",
    "        c = p[i]\r\n",
    "        assert c in amap\r\n",
    "        tab.append(nxt[:])\r\n",
    "        nxt[amap[c]] = i+1\r\n",
    "    return tab\r\n",
    "\r\n",
    "\r\n",
    "class BoyerMoore(object):\r\n",
    "    \"\"\" Encapsulates pattern and associated Boyer-Moore preprocessing. \"\"\"\r\n",
    "    \r\n",
    "    def __init__(self, p, alphabet='ACGT'):\r\n",
    "        self.p = p\r\n",
    "        self.alphabet = alphabet\r\n",
    "        # Create map from alphabet characters to integers\r\n",
    "        self.amap = {}\r\n",
    "        for i in range(len(self.alphabet)):\r\n",
    "            self.amap[self.alphabet[i]] = i\r\n",
    "        # Make bad character rule table\r\n",
    "        self.bad_char = dense_bad_char_tab(p, self.amap)\r\n",
    "        # Create good suffix rule table\r\n",
    "        _, self.big_l, self.small_l_prime = good_suffix_table(p)\r\n",
    "    \r\n",
    "    def bad_character_rule(self, i, c):\r\n",
    "        \"\"\" Return # skips given by bad character rule at offset i \"\"\"\r\n",
    "        assert c in self.amap\r\n",
    "        ci = self.amap[c]\r\n",
    "        assert i > (self.bad_char[i][ci]-1)\r\n",
    "        return i - (self.bad_char[i][ci]-1)\r\n",
    "    \r\n",
    "    def good_suffix_rule(self, i):\r\n",
    "        \"\"\" Given a mismatch at offset i, return amount to shift\r\n",
    "            as determined by (weak) good suffix rule. \"\"\"\r\n",
    "        length = len(self.big_l)\r\n",
    "        assert i < length\r\n",
    "        if i == length - 1:\r\n",
    "            return 0\r\n",
    "        i += 1  # i points to leftmost matching position of P\r\n",
    "        if self.big_l[i] > 0:\r\n",
    "            return length - self.big_l[i]\r\n",
    "        return length - self.small_l_prime[i]\r\n",
    "    \r\n",
    "    def match_skip(self):\r\n",
    "        \"\"\" Return amount to shift in case where P matches T \"\"\"\r\n",
    "        return len(self.small_l_prime) - self.small_l_prime[1]"
   ],
   "outputs": [],
   "metadata": {
    "collapsed": false
   }
  },
  {
   "cell_type": "markdown",
   "source": [
    "Let's make sure our rules give the expected results."
   ],
   "metadata": {}
  },
  {
   "cell_type": "code",
   "execution_count": 4,
   "source": [
    "# GCTAGCTCTACGAGTCTA\r\n",
    "p = 'TAATAAA'\r\n",
    "p_bm = BoyerMoore(p, alphabet='ACGT')\r\n",
    "p_bm.bad_character_rule(0, 'T')"
   ],
   "outputs": [
    {
     "output_type": "execute_result",
     "data": {
      "text/plain": [
       "1"
      ]
     },
     "metadata": {},
     "execution_count": 4
    }
   ],
   "metadata": {
    "collapsed": false
   }
  },
  {
   "cell_type": "code",
   "execution_count": 5,
   "source": [
    "# GCTAGCTCTACGAGTCTA\r\n",
    "# ACTA\r\n",
    "p = 'TAATTAA'\r\n",
    "p_bm = BoyerMoore(p, alphabet='ACGT')\r\n",
    "p_bm.good_suffix_rule(0)"
   ],
   "outputs": [
    {
     "output_type": "execute_result",
     "data": {
      "text/plain": [
       "4"
      ]
     },
     "metadata": {},
     "execution_count": 5
    }
   ],
   "metadata": {
    "collapsed": false
   }
  },
  {
   "cell_type": "code",
   "execution_count": 4,
   "source": [
    "# special case of good suffix rule\r\n",
    "# ACACGCTCTACGAGTCTA\r\n",
    "# ACAC\r\n",
    "p = 'ACAC'\r\n",
    "p_bm = BoyerMoore(p, alphabet='ACGT')\r\n",
    "p_bm.match_skip()"
   ],
   "outputs": [
    {
     "output_type": "execute_result",
     "data": {
      "text/plain": [
       "2"
      ]
     },
     "metadata": {},
     "execution_count": 4
    }
   ],
   "metadata": {
    "collapsed": false
   }
  },
  {
   "cell_type": "code",
   "execution_count": 5,
   "source": [
    "def boyer_moore(p, p_bm, t):\r\n",
    "    \"\"\" Do Boyer-Moore matching \"\"\"\r\n",
    "    i = 0\r\n",
    "    occurrences = []\r\n",
    "    while i < len(t) - len(p) + 1:\r\n",
    "        shift = 1\r\n",
    "        mismatched = False\r\n",
    "        for j in range(len(p)-1, -1, -1):\r\n",
    "            if p[j] != t[i+j]:\r\n",
    "                skip_bc = p_bm.bad_character_rule(j, t[i+j])\r\n",
    "                skip_gs = p_bm.good_suffix_rule(j)\r\n",
    "                shift = max(shift, skip_bc, skip_gs)\r\n",
    "                mismatched = True\r\n",
    "                break\r\n",
    "        if not mismatched:\r\n",
    "            occurrences.append(i)\r\n",
    "            skip_gs = p_bm.match_skip()\r\n",
    "            shift = max(shift, skip_gs)\r\n",
    "        i += shift\r\n",
    "    return occurrences"
   ],
   "outputs": [],
   "metadata": {
    "collapsed": true
   }
  },
  {
   "cell_type": "code",
   "execution_count": 6,
   "source": [
    "t = 'GCTAGCTCTACGAGTCTA'\r\n",
    "p = 'TCTA'\r\n",
    "p_bm = BoyerMoore(p, alphabet='ACGT')"
   ],
   "outputs": [],
   "metadata": {
    "collapsed": false
   }
  },
  {
   "cell_type": "code",
   "execution_count": 7,
   "source": [
    "boyer_moore(p, p_bm, t)"
   ],
   "outputs": [
    {
     "output_type": "execute_result",
     "data": {
      "text/plain": [
       "[6, 14]"
      ]
     },
     "metadata": {},
     "execution_count": 7
    }
   ],
   "metadata": {
    "collapsed": false
   }
  }
 ],
 "metadata": {
  "kernelspec": {
   "name": "python3",
   "display_name": "Python 3.9.6 64-bit"
  },
  "language_info": {
   "name": "python",
   "version": "3.9.6",
   "mimetype": "text/x-python",
   "codemirror_mode": {
    "name": "ipython",
    "version": 3
   },
   "pygments_lexer": "ipython3",
   "nbconvert_exporter": "python",
   "file_extension": ".py"
  },
  "interpreter": {
   "hash": "ca98eca091f665d4b073781a8092ef1e4b0b5ce5ebfcf0d3c7ac3a44a4e96cf6"
  }
 },
 "nbformat": 4,
 "nbformat_minor": 2
}