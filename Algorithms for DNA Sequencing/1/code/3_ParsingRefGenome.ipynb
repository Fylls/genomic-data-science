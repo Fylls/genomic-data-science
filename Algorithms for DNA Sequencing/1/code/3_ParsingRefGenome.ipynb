{
 "cells": [
  {
   "cell_type": "code",
   "execution_count": 1,
   "source": [
    "# Following line downloads FASTA file containing the lambda phage reference genome\r\n",
    "!wget http://d28rh4a8wq0iu5.cloudfront.net/ads1/data/lambda_virus.fa"
   ],
   "outputs": [
    {
     "output_type": "stream",
     "name": "stdout",
     "text": [
      "--2015-07-14 11:22:01--  http://d28rh4a8wq0iu5.cloudfront.net/ads1/data/lambda_virus.fa\n",
      "Resolving d28rh4a8wq0iu5.cloudfront.net... 54.192.54.85, 54.192.54.222, 54.192.55.189, ...\n",
      "Connecting to d28rh4a8wq0iu5.cloudfront.net|54.192.54.85|:80... connected.\n",
      "HTTP request sent, awaiting response... 200 OK\n",
      "Length: 49270 (48K) [application/octet-stream]\n",
      "Saving to: 'lambda_virus.fa'\n",
      "\n",
      "lambda_virus.fa     100%[=====================>]  48.12K  --.-KB/s   in 0.1s   \n",
      "\n",
      "2015-07-14 11:22:01 (386 KB/s) - 'lambda_virus.fa' saved [49270/49270]\n",
      "\n"
     ]
    }
   ],
   "metadata": {
    "collapsed": false
   }
  },
  {
   "cell_type": "code",
   "execution_count": 2,
   "source": [
    "def readGenome(filename):\r\n",
    "    genome = ''\r\n",
    "    with open(filename, 'r') as f:\r\n",
    "        for line in f:\r\n",
    "            # ignore header line with genome information\r\n",
    "            if not line[0] == '>': genome += line.rstrip()\r\n",
    "    return genome\r\n",
    "genome = readGenome('lambda_virus.fa')\r\n",
    "genome[:100]"
   ],
   "outputs": [
    {
     "output_type": "execute_result",
     "data": {
      "text/plain": [
       "'GGGCGGCGACCTCGCGGGTTTTCGCTATTTATGAAAATTTTCCGGTTTAAGGCGTTTCCGTTCTTCTTCGTCATAACTTAATGTTTTTATTTAAAATACC'"
      ]
     },
     "metadata": {},
     "execution_count": 2
    }
   ],
   "metadata": {
    "collapsed": false
   }
  },
  {
   "cell_type": "code",
   "execution_count": 3,
   "source": [
    "# Count the number of occurences of each base\r\n",
    "counts = {'A': 0, 'C': 0, 'G': 0, 'T': 0}\r\n",
    "for base in genome:\r\n",
    "    counts[base] += 1\r\n",
    "print(counts)"
   ],
   "outputs": [
    {
     "output_type": "stream",
     "name": "stdout",
     "text": [
      "{'G': 12820, 'T': 11986, 'A': 12334, 'C': 11362}\n"
     ]
    }
   ],
   "metadata": {
    "collapsed": false
   }
  },
  {
   "cell_type": "code",
   "execution_count": 4,
   "source": [
    "import collections\r\n",
    "collections.Counter(genome)"
   ],
   "outputs": [
    {
     "output_type": "execute_result",
     "data": {
      "text/plain": [
       "Counter({'G': 12820, 'A': 12334, 'T': 11986, 'C': 11362})"
      ]
     },
     "metadata": {},
     "execution_count": 4
    }
   ],
   "metadata": {
    "collapsed": false
   }
  }
 ],
 "metadata": {
  "kernelspec": {
   "name": "python3",
   "display_name": "Python 3.9.6 64-bit"
  },
  "language_info": {
   "codemirror_mode": {
    "name": "ipython",
    "version": 3
   },
   "file_extension": ".py",
   "mimetype": "text/x-python",
   "name": "python",
   "nbconvert_exporter": "python",
   "pygments_lexer": "ipython3",
   "version": "3.9.6"
  },
  "interpreter": {
   "hash": "ca98eca091f665d4b073781a8092ef1e4b0b5ce5ebfcf0d3c7ac3a44a4e96cf6"
  }
 },
 "nbformat": 4,
 "nbformat_minor": 2
}