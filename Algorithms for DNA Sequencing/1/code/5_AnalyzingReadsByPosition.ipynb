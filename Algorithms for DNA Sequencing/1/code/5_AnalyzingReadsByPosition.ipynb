{
 "cells": [
  {
   "cell_type": "code",
   "execution_count": 1,
   "source": [
    "!wget http://d28rh4a8wq0iu5.cloudfront.net/ads1/data/SRR835775_1.first1000.fastq"
   ],
   "outputs": [
    {
     "output_type": "stream",
     "name": "stdout",
     "text": [
      "--2015-07-14 11:39:36--  http://d28rh4a8wq0iu5.cloudfront.net/ads1/data/SRR835775_1.first1000.fastq\n",
      "Resolving d28rh4a8wq0iu5.cloudfront.net... 54.192.55.192, 54.192.54.198, 54.192.54.164, ...\n",
      "Connecting to d28rh4a8wq0iu5.cloudfront.net|54.192.55.192|:80... connected.\n",
      "HTTP request sent, awaiting response... 200 OK\n",
      "Length: 224786 (220K) [application/octet-stream]\n",
      "Saving to: 'SRR835775_1.first1000.fastq'\n",
      "\n",
      "SRR835775_1.first10 100%[=====================>] 219.52K   864KB/s   in 0.3s   \n",
      "\n",
      "2015-07-14 11:39:36 (864 KB/s) - 'SRR835775_1.first1000.fastq' saved [224786/224786]\n",
      "\n"
     ]
    }
   ],
   "metadata": {
    "collapsed": false
   }
  },
  {
   "cell_type": "code",
   "execution_count": 2,
   "source": [
    "def readFastq(filename):\r\n",
    "    sequences = []\r\n",
    "    qualities = []\r\n",
    "    with open(filename) as fh:\r\n",
    "        while True:\r\n",
    "            fh.readline() # skip name line\r\n",
    "            seq = fh.readline().rstrip() # read base sequence\r\n",
    "            fh.readline() # skip placeholder line\r\n",
    "            qual = fh.readline().rstrip() #base quality line\r\n",
    "            if len(seq) == 0:\r\n",
    "                break\r\n",
    "            sequences.append(seq)\r\n",
    "            qualities.append(qual)\r\n",
    "    return sequences, qualities\r\n",
    "seqs, quals = readFastq('SRR835775_1.first1000.fastq')"
   ],
   "outputs": [],
   "metadata": {
    "collapsed": false
   }
  },
  {
   "cell_type": "code",
   "execution_count": 3,
   "source": [
    "# ord(x) converts int to char according to the ASCII table\r\n",
    "def phred33ToQ(qual):\r\n",
    "    return ord(qual) - 33\r\n",
    "\r\n",
    "\r\n",
    "def QtoPhred33(Q):\r\n",
    "    return char(Q + 33)"
   ],
   "outputs": [],
   "metadata": {
    "collapsed": true
   }
  },
  {
   "cell_type": "code",
   "execution_count": 4,
   "source": [
    "def createHist(qualities):\r\n",
    "    # Create a histogram of quality scores\r\n",
    "    hist = [0]*50\r\n",
    "    for qual in qualities:\r\n",
    "        for phred in qual:\r\n",
    "            q = phred33ToQ(phred)\r\n",
    "            hist[q] += 1\r\n",
    "    return hist\r\n",
    "h = createHist(quals)\r\n",
    "print(h)"
   ],
   "outputs": [
    {
     "output_type": "stream",
     "name": "stdout",
     "text": [
      "[0, 0, 6178, 0, 0, 54, 108, 574, 345, 83, 193, 124, 79, 165, 49, 236, 184, 327, 514, 238, 531, 254, 313, 798, 992, 888, 1396, 1488, 993, 1752, 3387, 4487, 3248, 5476, 8375, 11814, 4243, 7827, 6579, 8179, 9349, 8180, 0, 0, 0, 0, 0, 0, 0, 0]\n"
     ]
    }
   ],
   "metadata": {
    "collapsed": false
   }
  },
  {
   "cell_type": "code",
   "execution_count": 5,
   "source": [
    "# Plot the histogram\r\n",
    "%matplotlib inline\r\n",
    "import matplotlib.pyplot as plt\r\n",
    "plt.plot(range(len(h)), h)\r\n",
    "plt.show()"
   ],
   "outputs": [
    {
     "output_type": "display_data",
     "data": {
      "image/png": "[encoded data removed]",
      "text/plain": [
       "<matplotlib.figure.Figure at 0x1067dd0d0>"
      ]
     },
     "metadata": {}
    }
   ],
   "metadata": {
    "collapsed": false
   }
  },
  {
   "cell_type": "code",
   "execution_count": 6,
   "source": [
    "# The GC content, in other words, the fraction of the genome that contains G's or C's, differs from species to species.\r\n",
    "# So different species will have different characteristic GC contents. Here though, we're really just using GC as a way of trying\r\n",
    "# to figure out whether the mix of different bases is changing as we move along the read. We expect that it won't change very much.\r\n",
    "\r\n",
    "# But if something strange is going on, like if there was one particularly bad sequencing cycle, then we might see a very\r\n",
    "# different mix of G's and C's relative to the other bases. So we just want to plot that for the entire read and just\r\n",
    "# check to see whether anything strange is happening.\r\n",
    "\r\n",
    "def findGCByPos(reads):\r\n",
    "    ''' Find the GC ratio at each position in the read '''\r\n",
    "    # Keep track of the number of G/C bases and the total number of bases at each position\r\n",
    "    gc = [0] * 100\r\n",
    "    totals = [0] * 100\r\n",
    "    for read in reads:\r\n",
    "        for i in range(len(read)):\r\n",
    "            if read[i] == 'C' or read[i] == 'G':\r\n",
    "                gc[i] += 1\r\n",
    "            totals[i] += 1\r\n",
    "    # Divide G/C counts by total counts to get the average at each position\r\n",
    "    for i in range(len(gc)):\r\n",
    "        if totals[i] > 0:\r\n",
    "            gc[i] /= float(totals[i])\r\n",
    "    return gc\r\n",
    "\r\n",
    "gc = findGCByPos(seqs)\r\n",
    "plt.plot(range(len(gc)), gc)\r\n",
    "plt.show()\r\n",
    "\r\n",
    "# Yeah, we're not looking at very many sequencing reads here, so its not surprising that the fraction kind of jumps around a bit,\r\n",
    "# But one thing you can see is that its consistently higher than 0.5. that's because the human genome, has GC content, on average, greater than a half."
   ],
   "outputs": [
    {
     "output_type": "display_data",
     "data": {
      "image/png": "[encoded data removed]",
      "text/plain": [
       "<matplotlib.figure.Figure at 0x10857df10>"
      ]
     },
     "metadata": {}
    }
   ],
   "metadata": {
    "collapsed": false
   }
  },
  {
   "cell_type": "code",
   "execution_count": 7,
   "source": [
    "import collections\r\n",
    "count = collections.Counter()\r\n",
    "for seq in seqs:\r\n",
    "    count.update(seq)\r\n",
    "count\r\n",
    "\r\n",
    "# N is basically when the base caller has no confidence. It doesn't even want to make a call,\r\n",
    "# because there's no good evidence to support one base over the others."
   ],
   "outputs": [
    {
     "output_type": "execute_result",
     "data": {
      "text/plain": [
       "Counter({'G': 28742, 'C': 28272, 'T': 21836, 'A': 21132, 'N': 18})"
      ]
     },
     "metadata": {},
     "execution_count": 7
    }
   ],
   "metadata": {
    "collapsed": false
   }
  }
 ],
 "metadata": {
  "kernelspec": {
   "display_name": "Python 2",
   "language": "python",
   "name": "python2"
  },
  "language_info": {
   "codemirror_mode": {
    "name": "ipython",
    "version": 2
   },
   "file_extension": ".py",
   "mimetype": "text/x-python",
   "name": "python",
   "nbconvert_exporter": "python",
   "pygments_lexer": "ipython2",
   "version": "2.7.10"
  }
 },
 "nbformat": 4,
 "nbformat_minor": 2
}