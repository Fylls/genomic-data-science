{
 "cells": [
  {
   "cell_type": "code",
   "execution_count": 1,
   "source": [
    "!wget http://d28rh4a8wq0iu5.cloudfront.net/ads1/data/phix.fa"
   ],
   "outputs": [
    {
     "output_type": "stream",
     "name": "stdout",
     "text": [
      "--2015-07-14 11:54:42--  http://d28rh4a8wq0iu5.cloudfront.net/ads1/data/phix.fa\n",
      "Resolving d28rh4a8wq0iu5.cloudfront.net... 54.192.55.189, 54.192.54.164, 54.192.54.222, ...\n",
      "Connecting to d28rh4a8wq0iu5.cloudfront.net|54.192.55.189|:80... connected.\n",
      "HTTP request sent, awaiting response... 200 OK\n",
      "Length: 5528 (5.4K) [application/octet-stream]\n",
      "Saving to: 'phix.fa'\n",
      "\n",
      "phix.fa             100%[=====================>]   5.40K  --.-KB/s   in 0.002s \n",
      "\n",
      "2015-07-14 11:54:42 (3.30 MB/s) - 'phix.fa' saved [5528/5528]\n",
      "\n"
     ]
    }
   ],
   "metadata": {
    "collapsed": false
   }
  },
  {
   "cell_type": "code",
   "execution_count": 2,
   "source": [
    "def readGenome(filename):\r\n",
    "    genome = ''\r\n",
    "    with open(filename, 'r') as f:\r\n",
    "        for line in f:\r\n",
    "            # ignore header line with genome information\r\n",
    "            if not line[0] == '>':\r\n",
    "                genome += line.rstrip()\r\n",
    "    return genome"
   ],
   "outputs": [],
   "metadata": {
    "collapsed": false
   }
  },
  {
   "cell_type": "code",
   "execution_count": 3,
   "source": [
    "genome = readGenome('phix.fa')"
   ],
   "outputs": [],
   "metadata": {
    "collapsed": false
   }
  },
  {
   "cell_type": "code",
   "execution_count": 4,
   "source": [
    "# pattern P (read), text T (genome)\r\n",
    "def naive(p, t):\r\n",
    "    occurrences = []\r\n",
    "    for i in range(len(t) - len(p) + 1 ): # every position in T where P could start without running past the end of T.\r\n",
    "        match = True\r\n",
    "        for j in range(len(p)):\r\n",
    "            if t[i+j] != p[j]:  # to account for the fact that we're in the i-th alignment.\r\n",
    "                match = False\r\n",
    "                break\r\n",
    "        if match:\r\n",
    "          occurrences.append(i)\r\n",
    "    return occurrences"
   ],
   "outputs": [],
   "metadata": {
    "collapsed": false
   }
  },
  {
   "cell_type": "code",
   "execution_count": 5,
   "source": [
    "t = 'AGCTTAGATAGC'\r\n",
    "p = 'AG'\r\n",
    "naive(p, t)"
   ],
   "outputs": [
    {
     "output_type": "execute_result",
     "data": {
      "text/plain": [
       "[0, 5, 9]"
      ]
     },
     "metadata": {},
     "execution_count": 5
    }
   ],
   "metadata": {
    "collapsed": false
   }
  },
  {
   "cell_type": "code",
   "execution_count": 6,
   "source": [
    "import random\r\n",
    "def generateReads(genome, numReads, readLen):\r\n",
    "    ''' Generate reads from random positions in the given genome. '''\r\n",
    "    reads = []\r\n",
    "    for _ in range(numReads):\r\n",
    "        start = random.randint(0, len(genome)-readLen) - 1\r\n",
    "        reads.append(genome[start : start+readLen])\r\n",
    "    return reads"
   ],
   "outputs": [],
   "metadata": {
    "collapsed": false
   }
  },
  {
   "cell_type": "code",
   "execution_count": 7,
   "source": [
    "# Generate 100 reads of length 100\r\n",
    "reads = generateReads(genome, 100, 100)\r\n",
    "\r\n",
    "# Count how many reads match the genome exactly\r\n",
    "numMatched = 0\r\n",
    "for r in reads:\r\n",
    "    matches = naive(r, genome)\r\n",
    "    if len(matches) > 0:\r\n",
    "        numMatched += 1\r\n",
    "print('%d / %d reads matched the genome exactly!' % (numMatched, len(reads)))"
   ],
   "outputs": [
    {
     "output_type": "stream",
     "name": "stdout",
     "text": [
      "100 / 100 reads matched the genome exactly!\n"
     ]
    }
   ],
   "metadata": {
    "collapsed": false
   }
  }
 ],
 "metadata": {
  "kernelspec": {
   "display_name": "Python 2",
   "language": "python",
   "name": "python2"
  },
  "language_info": {
   "codemirror_mode": {
    "name": "ipython",
    "version": 2
   },
   "file_extension": ".py",
   "mimetype": "text/x-python",
   "name": "python",
   "nbconvert_exporter": "python",
   "pygments_lexer": "ipython2",
   "version": "2.7.10"
  }
 },
 "nbformat": 4,
 "nbformat_minor": 2
}